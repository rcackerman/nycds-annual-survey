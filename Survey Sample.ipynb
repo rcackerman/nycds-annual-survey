{
 "cells": [
  {
   "cell_type": "code",
   "execution_count": null,
   "metadata": {},
   "outputs": [],
   "source": [
    "import os\n",
    "import pandas as pd\n",
    "import numpy as np\n",
    "from sqlalchemy import create_engine\n",
    "\n",
    "URI = \"postgresql://postgres@localhost:5433/pdcms\"\n",
    "ENGINE = create_engine('postgresql://postgres@localhost:5433/pdcms')\n",
    "\n",
    "# Helper classes to execute SQL from files\n",
    "def parse_sql(filename):\n",
    "    \"\"\"SQLAlchemy is not able to handle multiple queries in the same file.\n",
    "    This function splits the query whenever there is a `;`, which is the SQL delimiter.\n",
    "    \"\"\"\n",
    "    with open(filename, 'r') as f:\n",
    "        queries = f.read().split(';')\n",
    "    return([q for q in queries if q.strip() != ''])\n",
    "\n",
    "def execute_survey_sql(conn, sql_file):\n",
    "    \"\"\"Executes each sql query in the file it is given\"\"\"\n",
    "    sql_statements = parse_sql(sql_file)\n",
    "    for s in sql_statements:\n",
    "        conn.execute(s)\n",
    "    return True"
   ]
  },
  {
   "cell_type": "markdown",
   "metadata": {},
   "source": [
    "## Finding eligible cases and people\n",
    "\n",
    "The queries that create the population of eligible clients is in two files:\n",
    "\n",
    "`case_population.sql` selects cases that were closed within the last 6 months, and whose defendant is not on any open cases or was ever 7.30'd.\n",
    "\n",
    "`people_population.sql` selects people who are eligible to be surveyed. Clients are eligible to be surveyed if they are on one of the cases selected above, are over 18, and speak either English or Spanish.\n",
    "\n",
    "These queries create two tables in the database called `survey_cases` and `survey_people`. The final query uses both of these interstitial tables."
   ]
  },
  {
   "cell_type": "code",
   "execution_count": null,
   "metadata": {},
   "outputs": [],
   "source": [
    "with ENGINE.connect() as conn:\n",
    "    execute_survey_sql(conn, 'case_population.sql')\n",
    "    execute_survey_sql(conn, 'people_population.sql')"
   ]
  },
  {
   "cell_type": "markdown",
   "metadata": {},
   "source": [
    "## Creating the final sample frame\n",
    "\n",
    "`population.sql` puts everything together, and selects the frame from which we will sample."
   ]
  },
  {
   "cell_type": "code",
   "execution_count": null,
   "metadata": {},
   "outputs": [],
   "source": [
    "with ENGINE.connect() as conn:\n",
    "    with open('population.sql', 'r') as f:\n",
    "        FRAME = pd.read_sql(f.read(), conn)"
   ]
  },
  {
   "cell_type": "code",
   "execution_count": null,
   "metadata": {},
   "outputs": [],
   "source": [
    "FRAME.head()"
   ]
  },
  {
   "cell_type": "code",
   "execution_count": null,
   "metadata": {},
   "outputs": [],
   "source": [
    "FRAME.iloc[1]"
   ]
  },
  {
   "cell_type": "markdown",
   "metadata": {},
   "source": [
    "Some columns have lists in them - change those to strings."
   ]
  },
  {
   "cell_type": "code",
   "execution_count": null,
   "metadata": {},
   "outputs": [],
   "source": [
    "FRAME['gender'] = FRAME['gender'].apply(lambda x: x[0] if x else None)\n",
    "FRAME['race'] = FRAME['race'].apply(lambda x: \", \".join(x) if x else None)\n",
    "FRAME['language'] = FRAME['language'].apply(lambda x: \", \".join(x))\n",
    "FRAME['client_names'] = FRAME['client_names'].apply(lambda x: \", \".join(x))\n",
    "FRAME['ethnicity'] = FRAME['ethnicity'].apply(lambda x: 'Hispanic' if 'H' in x else None)"
   ]
  },
  {
   "cell_type": "markdown",
   "metadata": {},
   "source": [
    "### Further weeding\n",
    "\n",
    "It's easier to find patterns in text in Python than in Postgresql, so we'll do it here. Below, we'll remove out of county warrants (where the client has a case in another county but is arrested here)."
   ]
  },
  {
   "cell_type": "code",
   "execution_count": null,
   "metadata": {},
   "outputs": [],
   "source": [
    "ny_docket_paterns = (FRAME['docket_number'].str.contains('[0-9]NY*[0-9]', na=False) # docket has NY in it\n",
    "                     | FRAME['docket_number'].str.contains('CN', na=False) # or CN\n",
    "                     | FRAME['docket_number'].str.contains('/', na=False) # or is an indictment (which isn't supposed to be there, but whatever)\n",
    "                     | pd.isnull(FRAME['docket_number'])) # or is blank\n",
    "FRAME = FRAME.loc[ny_docket_paterns, :]"
   ]
  },
  {
   "cell_type": "markdown",
   "metadata": {},
   "source": [
    "Keep only cases that have either a case docket or an indictment."
   ]
  },
  {
   "cell_type": "code",
   "execution_count": null,
   "metadata": {},
   "outputs": [],
   "source": [
    "docket_indictment_blank = (pd.isnull(FRAME.docket_number) & pd.isnull(FRAME.indictment_number))\n",
    "FRAME = FRAME.loc[~docket_indictment_blank, :]"
   ]
  },
  {
   "cell_type": "markdown",
   "metadata": {},
   "source": [
    "Indictments are sometimes recorded as dockets, and vice versa. The following moves the docket or indictment number into the correct column, if they were recorded incorrectly."
   ]
  },
  {
   "cell_type": "code",
   "execution_count": null,
   "metadata": {},
   "outputs": [],
   "source": [
    "indictment_pattern = (FRAME['docket_number'].str.contains('/', na=False) | FRAME['docket_number'].str.contains('-', na=False))\n",
    "docket_pattern = (FRAME['indictment_number'].str.contains('NY', na=False))\n",
    "\n",
    "# Copies the indictment number into the indictment column,\n",
    "# then sets the indictment number in the docket column to None\n",
    "FRAME.loc[indictment_pattern, 'indictment_number'] = FRAME.loc[indictment_pattern, 'docket_number']\n",
    "FRAME.loc[indictment_pattern, 'docket_number'] = None\n",
    "\n",
    "# Copies the docket number into the docket column,\n",
    "# then sets the docket number in the indictment column to None\n",
    "FRAME.loc[docket_pattern, 'indictment_number'] = FRAME.loc[docket_pattern, 'indictment_number']\n",
    "FRAME.loc[docket_pattern, 'indictment_number'] = None"
   ]
  },
  {
   "cell_type": "markdown",
   "metadata": {},
   "source": [
    "Indictments in PDCMS are recorded irregularly. The following cleans them up a bit."
   ]
  },
  {
   "cell_type": "code",
   "execution_count": null,
   "metadata": {},
   "outputs": [],
   "source": [
    "import re\n",
    "indcts = FRAME.loc[~pd.isnull(FRAME.indictment_number), 'indictment_number']\n",
    "\n",
    "def clean_indictments(indct):\n",
    "    if indct:\n",
    "        indct = re.sub('0*([0-9]{4}[A-Z]*)/1', '\\\\1-201', indct)\n",
    "        return(re.sub('([0-9]{3}[A-Z]*)/1', '0\\\\1-201', indct))\n",
    "\n",
    "FRAME['indictment_number'] = FRAME.indictment_number.apply(lambda x: clean_indictments(x))"
   ]
  },
  {
   "cell_type": "markdown",
   "metadata": {},
   "source": [
    "Finally, a few lines of housekeeping."
   ]
  },
  {
   "cell_type": "code",
   "execution_count": null,
   "metadata": {},
   "outputs": [],
   "source": [
    "FRAME.head()"
   ]
  },
  {
   "cell_type": "code",
   "execution_count": null,
   "metadata": {},
   "outputs": [],
   "source": [
    "FRAME[['sw_assigned', 'investigator_assigned']] = FRAME[['sw_assigned', 'investigator_assigned']].fillna(0)"
   ]
  },
  {
   "cell_type": "markdown",
   "metadata": {},
   "source": [
    "## Who is in the sample frame?"
   ]
  },
  {
   "cell_type": "markdown",
   "metadata": {},
   "source": [
    "#### Case type count:\n",
    "\n",
    "Most eligible cases were misdemeanors."
   ]
  },
  {
   "cell_type": "code",
   "execution_count": null,
   "metadata": {},
   "outputs": [],
   "source": [
    "FRAME.groupby('case_type').agg('size').sort_values()"
   ]
  },
  {
   "cell_type": "markdown",
   "metadata": {},
   "source": [
    "#### How long did these cases last?\n",
    "\n",
    "This is a little tricky because of how many people "
   ]
  },
  {
   "cell_type": "code",
   "execution_count": null,
   "metadata": {},
   "outputs": [],
   "source": [
    "FRAME['age_of_case'] = (FRAME.case_close_date - FRAME.case_open_date).dt.days\n",
    "FRAME.groupby('case_type').agg({'age_of_case': 'describe'})"
   ]
  },
  {
   "cell_type": "markdown",
   "metadata": {},
   "source": [
    "#### Client ages:\n",
    "\n",
    "Age at case open. Unsurprisingly, mostly people in their 20s and 30s."
   ]
  },
  {
   "cell_type": "code",
   "execution_count": null,
   "metadata": {},
   "outputs": [],
   "source": [
    "# Ages\n",
    "%matplotlib\n",
    "(FRAME.case_open_date - FRAME.dob).apply(lambda x: x// np.timedelta64(1, 'Y')).plot.hist(title='Client Ages')"
   ]
  },
  {
   "cell_type": "code",
   "execution_count": null,
   "metadata": {},
   "outputs": [],
   "source": [
    "FRAME.language.value_counts()"
   ]
  },
  {
   "cell_type": "code",
   "execution_count": null,
   "metadata": {},
   "outputs": [],
   "source": [
    "FRAME.gender.value_counts()"
   ]
  },
  {
   "cell_type": "code",
   "execution_count": null,
   "metadata": {},
   "outputs": [],
   "source": [
    "FRAME.describe()"
   ]
  },
  {
   "cell_type": "markdown",
   "metadata": {},
   "source": [
    "### Add trial information\n",
    "\n",
    "The following code looks in the trial dataset to see which cases in the sampling frame went to trial."
   ]
  },
  {
   "cell_type": "code",
   "execution_count": null,
   "metadata": {},
   "outputs": [],
   "source": [
    "trials = pd.read_csv('./data/trials.csv') #clients who went to trial\n",
    "# sets the column to 0, then sets rows where the indictment or docket number are in the trials dataset to 1\n",
    "FRAME['went_to_trial'] = 0\n",
    "FRAME.loc[FRAME.indictment_number.isin(trials.Indictment) | FRAME.docket_number.isin(trials.Docket), 'went_to_trial'] = 1"
   ]
  },
  {
   "cell_type": "code",
   "execution_count": null,
   "metadata": {},
   "outputs": [],
   "source": [
    "FRAME.went_to_trial.value_counts()"
   ]
  },
  {
   "cell_type": "code",
   "execution_count": null,
   "metadata": {},
   "outputs": [],
   "source": [
    "#social_work_referrals = pd.read_csv()\n",
    "#investigation_referral = pd.read_csv()"
   ]
  },
  {
   "cell_type": "code",
   "execution_count": null,
   "metadata": {},
   "outputs": [],
   "source": [
    "###\n",
    "# Things that are important to know\n",
    "FRAME['social_work_referral'] = None\n",
    "FRAME['investigation_referral'] = None\n",
    "FRAME['age_group'] = None\n",
    "FRAME['indicted'] = FRAME['cas_indictment'].apply(\n",
    "                                lambda x: True if pd.notnull(x) else False)\n",
    "FRAME['currently_incarcerated'] = None"
   ]
  },
  {
   "cell_type": "markdown",
   "metadata": {},
   "source": [
    "## Sample!!\n",
    "\n",
    "Whew.\n",
    "\n",
    "The following is the actual sampling code, with some quick checking to make sure the sample is roughly similar to the population frame."
   ]
  },
  {
   "cell_type": "code",
   "execution_count": null,
   "metadata": {},
   "outputs": [],
   "source": [
    "SAMPLE = FRAME.sample(100)"
   ]
  },
  {
   "cell_type": "code",
   "execution_count": null,
   "metadata": {},
   "outputs": [],
   "source": [
    "SAMPLE.describe()"
   ]
  },
  {
   "cell_type": "code",
   "execution_count": null,
   "metadata": {},
   "outputs": [],
   "source": [
    "print(SAMPLE.gender.value_counts())\n",
    "print(SAMPLE.non_citizen.value_counts())\n",
    "print(SAMPLE.language.value_counts())\n",
    "print(SAMPLE.went_to_trial.value_counts())"
   ]
  },
  {
   "cell_type": "code",
   "execution_count": null,
   "metadata": {},
   "outputs": [],
   "source": [
    "SAMPLE = pd.concat([SAMPLE, FRAME[FRAME['language'] == 'SPANISH'].sample(10)])"
   ]
  },
  {
   "cell_type": "code",
   "execution_count": null,
   "metadata": {},
   "outputs": [],
   "source": [
    "SAMPLE.to_csv('./sample.csv', index=False)"
   ]
  },
  {
   "cell_type": "code",
   "execution_count": null,
   "metadata": {},
   "outputs": [],
   "source": [
    "SAMPLE.drop_duplicates(inplace=True)"
   ]
  },
  {
   "cell_type": "code",
   "execution_count": null,
   "metadata": {},
   "outputs": [],
   "source": [
    "SAMPLE.assigned_attorney.value_counts()"
   ]
  },
  {
   "cell_type": "code",
   "execution_count": null,
   "metadata": {},
   "outputs": [],
   "source": []
  }
 ],
 "metadata": {
  "kernelspec": {
   "display_name": "Python 3",
   "language": "python",
   "name": "python3"
  },
  "language_info": {
   "codemirror_mode": {
    "name": "ipython",
    "version": 3
   },
   "file_extension": ".py",
   "mimetype": "text/x-python",
   "name": "python",
   "nbconvert_exporter": "python",
   "pygments_lexer": "ipython3",
   "version": "3.7.0"
  }
 },
 "nbformat": 4,
 "nbformat_minor": 2
}
